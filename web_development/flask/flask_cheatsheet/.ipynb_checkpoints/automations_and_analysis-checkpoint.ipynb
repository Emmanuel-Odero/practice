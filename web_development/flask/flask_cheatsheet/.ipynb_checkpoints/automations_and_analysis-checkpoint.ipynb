{
 "cells": [
  {
   "cell_type": "code",
   "execution_count": 4,
   "id": "772a64d0",
   "metadata": {},
   "outputs": [],
   "source": [
    "#to use sql first intall this module to enable magic command for sql\n",
    "#!pip install ipython-sql"
   ]
  },
  {
   "cell_type": "code",
   "execution_count": 5,
   "id": "b6b73a2c",
   "metadata": {
    "scrolled": true
   },
   "outputs": [],
   "source": [
    "# We will first load the sql extension into our environment\n",
    "%load_ext sql\n",
    "\n",
    "# Then connect to our in memory sqlite database\n",
    "# NB: This database will cease to exist as soon as the database connection is closed. \n",
    "%sql sqlite://"
   ]
  },
  {
   "cell_type": "code",
   "execution_count": 3,
   "id": "b6f6145e",
   "metadata": {},
   "outputs": [],
   "source": [
    "import pandas as pd\n",
    "import sqlite3\n",
    "\n",
    "con = sqlite3.connect(\"./blog/site.sqlite\")\n",
    "\n",
    "# Load the data into a DataFrame\n",
    "user_df = pd.read_sql_query(\"SELECT * from User\", con)\n",
    "post_df = pd.read_sql_query(\"SELECT * from Post\", con)"
   ]
  },
  {
   "cell_type": "code",
   "execution_count": 4,
   "id": "d9e50fba",
   "metadata": {},
   "outputs": [
    {
     "data": {
      "text/html": [
       "<div>\n",
       "<style scoped>\n",
       "    .dataframe tbody tr th:only-of-type {\n",
       "        vertical-align: middle;\n",
       "    }\n",
       "\n",
       "    .dataframe tbody tr th {\n",
       "        vertical-align: top;\n",
       "    }\n",
       "\n",
       "    .dataframe thead th {\n",
       "        text-align: right;\n",
       "    }\n",
       "</style>\n",
       "<table border=\"1\" class=\"dataframe\">\n",
       "  <thead>\n",
       "    <tr style=\"text-align: right;\">\n",
       "      <th></th>\n",
       "      <th>id</th>\n",
       "      <th>username</th>\n",
       "      <th>email</th>\n",
       "      <th>image_file</th>\n",
       "      <th>password</th>\n",
       "    </tr>\n",
       "  </thead>\n",
       "  <tbody>\n",
       "    <tr>\n",
       "      <th>0</th>\n",
       "      <td>1</td>\n",
       "      <td>user</td>\n",
       "      <td>user@gmail.com</td>\n",
       "      <td>default.jpg</td>\n",
       "      <td>$2b$12$fhyGDGXw.z5eJXyCyjT74.pAv5h7DM1PeYmRIcp...</td>\n",
       "    </tr>\n",
       "    <tr>\n",
       "      <th>1</th>\n",
       "      <td>2</td>\n",
       "      <td>user1</td>\n",
       "      <td>user1@gmail.com</td>\n",
       "      <td>default.jpg</td>\n",
       "      <td>$2b$12$Kch/YRXYrUfmQOkeF5DX9uZhU.z2YOtf3B/jw8Y...</td>\n",
       "    </tr>\n",
       "  </tbody>\n",
       "</table>\n",
       "</div>"
      ],
      "text/plain": [
       "   id username            email   image_file  \\\n",
       "0   1     user   user@gmail.com  default.jpg   \n",
       "1   2    user1  user1@gmail.com  default.jpg   \n",
       "\n",
       "                                            password  \n",
       "0  $2b$12$fhyGDGXw.z5eJXyCyjT74.pAv5h7DM1PeYmRIcp...  \n",
       "1  $2b$12$Kch/YRXYrUfmQOkeF5DX9uZhU.z2YOtf3B/jw8Y...  "
      ]
     },
     "execution_count": 4,
     "metadata": {},
     "output_type": "execute_result"
    }
   ],
   "source": [
    "user_df.head()"
   ]
  },
  {
   "cell_type": "code",
   "execution_count": 5,
   "id": "fb29e0b2",
   "metadata": {},
   "outputs": [
    {
     "data": {
      "text/html": [
       "<div>\n",
       "<style scoped>\n",
       "    .dataframe tbody tr th:only-of-type {\n",
       "        vertical-align: middle;\n",
       "    }\n",
       "\n",
       "    .dataframe tbody tr th {\n",
       "        vertical-align: top;\n",
       "    }\n",
       "\n",
       "    .dataframe thead th {\n",
       "        text-align: right;\n",
       "    }\n",
       "</style>\n",
       "<table border=\"1\" class=\"dataframe\">\n",
       "  <thead>\n",
       "    <tr style=\"text-align: right;\">\n",
       "      <th></th>\n",
       "      <th>id</th>\n",
       "      <th>title</th>\n",
       "      <th>date_posted</th>\n",
       "      <th>content</th>\n",
       "      <th>user_id</th>\n",
       "    </tr>\n",
       "  </thead>\n",
       "  <tbody>\n",
       "    <tr>\n",
       "      <th>0</th>\n",
       "      <td>1</td>\n",
       "      <td>Tech Event</td>\n",
       "      <td>2021-09-01 04:15:34.146904</td>\n",
       "      <td>W e are hosting our first tech event</td>\n",
       "      <td>1</td>\n",
       "    </tr>\n",
       "    <tr>\n",
       "      <th>1</th>\n",
       "      <td>2</td>\n",
       "      <td>Tearchers Strike</td>\n",
       "      <td>2021-09-01 04:17:44.150695</td>\n",
       "      <td>There was a teachers strive in the eve of 1994...</td>\n",
       "      <td>2</td>\n",
       "    </tr>\n",
       "  </tbody>\n",
       "</table>\n",
       "</div>"
      ],
      "text/plain": [
       "   id             title                 date_posted  \\\n",
       "0   1        Tech Event  2021-09-01 04:15:34.146904   \n",
       "1   2  Tearchers Strike  2021-09-01 04:17:44.150695   \n",
       "\n",
       "                                             content  user_id  \n",
       "0               W e are hosting our first tech event        1  \n",
       "1  There was a teachers strive in the eve of 1994...        2  "
      ]
     },
     "execution_count": 5,
     "metadata": {},
     "output_type": "execute_result"
    }
   ],
   "source": [
    "post_df.head()"
   ]
  },
  {
   "cell_type": "code",
   "execution_count": null,
   "id": "c0cd772e",
   "metadata": {},
   "outputs": [],
   "source": []
  }
 ],
 "metadata": {
  "kernelspec": {
   "display_name": "Python 3",
   "language": "python",
   "name": "python3"
  },
  "language_info": {
   "codemirror_mode": {
    "name": "ipython",
    "version": 3
   },
   "file_extension": ".py",
   "mimetype": "text/x-python",
   "name": "python",
   "nbconvert_exporter": "python",
   "pygments_lexer": "ipython3",
   "version": "3.8.8"
  }
 },
 "nbformat": 4,
 "nbformat_minor": 5
}
